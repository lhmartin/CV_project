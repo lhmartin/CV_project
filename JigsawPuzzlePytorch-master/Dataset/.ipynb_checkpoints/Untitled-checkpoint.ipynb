{
 "cells": [
  {
   "cell_type": "code",
   "execution_count": 1,
   "metadata": {},
   "outputs": [],
   "source": [
    "import os, numpy as np\n",
    "from time import time\n",
    "import torch.utils.data as data\n",
    "import torchvision.transforms as transforms\n",
    "import torchvision\n",
    "import torch\n",
    "\n",
    "from PIL import Image\n",
    "from random import shuffle"
   ]
  },
  {
   "cell_type": "code",
   "execution_count": 2,
   "metadata": {},
   "outputs": [],
   "source": [
    "from JigsawImageLoader import DataLoader\n",
    "import matplotlib.pyplot as plt"
   ]
  },
  {
   "cell_type": "code",
   "execution_count": 3,
   "metadata": {},
   "outputs": [],
   "source": [
    "data_path = '../../data/train/'\n",
    "txt_list = '../../train.txt''"
   ]
  },
  {
   "cell_type": "code",
   "execution_count": 4,
   "metadata": {},
   "outputs": [],
   "source": [
    "train_dataset = torchvision.datasets.ImageFolder(\n",
    "        root=data_path,\n",
    "        transform=torchvision.transforms.ToTensor()\n",
    "    )"
   ]
  },
  {
   "cell_type": "code",
   "execution_count": 7,
   "metadata": {},
   "outputs": [
    {
     "ename": "TypeError",
     "evalue": "__init__() got an unexpected keyword argument 'dataset'",
     "output_type": "error",
     "traceback": [
      "\u001b[0;31m---------------------------------------------------------------------------\u001b[0m",
      "\u001b[0;31mTypeError\u001b[0m                                 Traceback (most recent call last)",
      "\u001b[0;32m<ipython-input-7-bb7c3712c34a>\u001b[0m in \u001b[0;36m<module>\u001b[0;34m\u001b[0m\n\u001b[1;32m      2\u001b[0m                                             \u001b[0mbatch_size\u001b[0m\u001b[0;34m=\u001b[0m\u001b[0;36m64\u001b[0m\u001b[0;34m,\u001b[0m\u001b[0;34m\u001b[0m\u001b[0;34m\u001b[0m\u001b[0m\n\u001b[1;32m      3\u001b[0m                                             \u001b[0mshuffle\u001b[0m\u001b[0;34m=\u001b[0m\u001b[0;32mTrue\u001b[0m\u001b[0;34m,\u001b[0m\u001b[0;34m\u001b[0m\u001b[0;34m\u001b[0m\u001b[0m\n\u001b[0;32m----> 4\u001b[0;31m                                             num_workers=1)\n\u001b[0m",
      "\u001b[0;31mTypeError\u001b[0m: __init__() got an unexpected keyword argument 'dataset'"
     ]
    }
   ],
   "source": [
    "train_loader = DataLoader(data_path, txt_list)"
   ]
  },
  {
   "cell_type": "code",
   "execution_count": 6,
   "metadata": {},
   "outputs": [
    {
     "data": {
      "text/plain": [
       "Dataset ImageFolder\n",
       "    Number of datapoints: 5000\n",
       "    Root Location: ../../data/train/\n",
       "    Transforms (if any): ToTensor()\n",
       "    Target Transforms (if any): None"
      ]
     },
     "execution_count": 6,
     "metadata": {},
     "output_type": "execute_result"
    }
   ],
   "source": [
    "train_loader.dataset"
   ]
  },
  {
   "cell_type": "code",
   "execution_count": 7,
   "metadata": {},
   "outputs": [
    {
     "name": "stdout",
     "output_type": "stream",
     "text": [
      "2\n"
     ]
    }
   ],
   "source": [
    " for i, t in enumerate(train_loader):\n",
    "        print(len(t))\n",
    "        break"
   ]
  },
  {
   "cell_type": "code",
   "execution_count": 8,
   "metadata": {},
   "outputs": [
    {
     "data": {
      "text/plain": [
       "[tensor([[[[0.0000, 0.2745, 0.4471,  ..., 0.3529, 0.3176, 0.2863],\n",
       "           [0.0000, 0.2706, 0.4078,  ..., 0.3412, 0.2902, 0.2863],\n",
       "           [0.0000, 0.2941, 0.3569,  ..., 0.3373, 0.2745, 0.2824],\n",
       "           ...,\n",
       "           [0.0000, 0.3020, 0.5059,  ..., 0.4196, 0.5765, 0.6000],\n",
       "           [0.0000, 0.3216, 0.5059,  ..., 0.4392, 0.6118, 0.5098],\n",
       "           [0.0000, 0.3137, 0.4471,  ..., 0.4392, 0.5843, 0.4431]],\n",
       " \n",
       "          [[0.0000, 0.4000, 0.6078,  ..., 0.4745, 0.4431, 0.4510],\n",
       "           [0.0000, 0.3961, 0.5686,  ..., 0.5020, 0.4588, 0.4588],\n",
       "           [0.0000, 0.4235, 0.5294,  ..., 0.5020, 0.4275, 0.4039],\n",
       "           ...,\n",
       "           [0.0000, 0.3216, 0.5137,  ..., 0.4471, 0.5569, 0.5137],\n",
       "           [0.0000, 0.3490, 0.5059,  ..., 0.4471, 0.5569, 0.4667],\n",
       "           [0.0000, 0.3333, 0.4627,  ..., 0.4588, 0.5373, 0.4000]],\n",
       " \n",
       "          [[0.0000, 0.2824, 0.4824,  ..., 0.3176, 0.2706, 0.2627],\n",
       "           [0.0000, 0.2275, 0.4000,  ..., 0.3294, 0.2510, 0.2706],\n",
       "           [0.0000, 0.2314, 0.3412,  ..., 0.3569, 0.2353, 0.2314],\n",
       "           ...,\n",
       "           [0.0000, 0.3176, 0.5333,  ..., 0.3569, 0.4667, 0.4431],\n",
       "           [0.0000, 0.3451, 0.5255,  ..., 0.3647, 0.4745, 0.3843],\n",
       "           [0.0000, 0.3569, 0.4667,  ..., 0.3608, 0.4353, 0.3294]]],\n",
       " \n",
       " \n",
       "         [[[0.4275, 0.4275, 0.4314,  ..., 0.4235, 0.4235, 0.4235],\n",
       "           [0.4275, 0.4275, 0.4314,  ..., 0.4275, 0.4235, 0.4196],\n",
       "           [0.4235, 0.4314, 0.4353,  ..., 0.4196, 0.4235, 0.4275],\n",
       "           ...,\n",
       "           [0.6392, 0.6510, 0.5451,  ..., 0.7882, 0.6824, 0.7490],\n",
       "           [0.6471, 0.5412, 0.6667,  ..., 0.8392, 0.7373, 0.7373],\n",
       "           [0.8510, 0.7216, 0.7294,  ..., 0.7647, 0.7255, 0.7765]],\n",
       " \n",
       "          [[0.5098, 0.5059, 0.5020,  ..., 0.5059, 0.5059, 0.5059],\n",
       "           [0.5098, 0.5059, 0.5020,  ..., 0.5098, 0.5059, 0.5020],\n",
       "           [0.5059, 0.5059, 0.5059,  ..., 0.5020, 0.5059, 0.5098],\n",
       "           ...,\n",
       "           [0.5216, 0.5647, 0.4941,  ..., 0.6745, 0.5843, 0.6627],\n",
       "           [0.5412, 0.4392, 0.6039,  ..., 0.7373, 0.6196, 0.6118],\n",
       "           [0.7686, 0.6510, 0.6588,  ..., 0.6667, 0.6039, 0.6510]],\n",
       " \n",
       "          [[0.9294, 0.9255, 0.9255,  ..., 0.9176, 0.9176, 0.9176],\n",
       "           [0.9294, 0.9255, 0.9255,  ..., 0.9216, 0.9176, 0.9137],\n",
       "           [0.9255, 0.9294, 0.9294,  ..., 0.9137, 0.9176, 0.9216],\n",
       "           ...,\n",
       "           [0.3412, 0.3843, 0.2980,  ..., 0.4863, 0.4078, 0.4902],\n",
       "           [0.3765, 0.2549, 0.4275,  ..., 0.5843, 0.4824, 0.4588],\n",
       "           [0.6392, 0.4980, 0.5098,  ..., 0.5216, 0.4549, 0.4902]]],\n",
       " \n",
       " \n",
       "         [[[0.5804, 0.5725, 0.5412,  ..., 0.4431, 0.4314, 0.4431],\n",
       "           [0.5843, 0.5765, 0.5608,  ..., 0.4941, 0.4510, 0.4275],\n",
       "           [0.5765, 0.5608, 0.5451,  ..., 0.4549, 0.4196, 0.4039],\n",
       "           ...,\n",
       "           [0.5098, 0.5137, 0.5255,  ..., 0.5098, 0.4863, 0.5451],\n",
       "           [0.5294, 0.5294, 0.4941,  ..., 0.5059, 0.4980, 0.5529],\n",
       "           [0.5294, 0.4667, 0.4824,  ..., 0.5098, 0.5529, 0.5686]],\n",
       " \n",
       "          [[0.4157, 0.4039, 0.3804,  ..., 0.5804, 0.5882, 0.6118],\n",
       "           [0.4157, 0.4078, 0.4039,  ..., 0.6196, 0.6000, 0.5882],\n",
       "           [0.4000, 0.3961, 0.3922,  ..., 0.5922, 0.5843, 0.5804],\n",
       "           ...,\n",
       "           [0.6275, 0.6275, 0.6588,  ..., 0.6471, 0.6118, 0.6431],\n",
       "           [0.6627, 0.6510, 0.6275,  ..., 0.6431, 0.6196, 0.6549],\n",
       "           [0.6431, 0.5765, 0.6039,  ..., 0.6314, 0.6510, 0.6549]],\n",
       " \n",
       "          [[0.3373, 0.3294, 0.2941,  ..., 0.4118, 0.3922, 0.3961],\n",
       "           [0.3333, 0.3373, 0.3216,  ..., 0.4824, 0.4314, 0.3922],\n",
       "           [0.3216, 0.3216, 0.3137,  ..., 0.3961, 0.3686, 0.3451],\n",
       "           ...,\n",
       "           [0.4510, 0.4235, 0.4314,  ..., 0.4118, 0.3804, 0.4235],\n",
       "           [0.4588, 0.4471, 0.3922,  ..., 0.4118, 0.3686, 0.4314],\n",
       "           [0.4667, 0.3647, 0.3725,  ..., 0.3804, 0.4275, 0.4706]]],\n",
       " \n",
       " \n",
       "         ...,\n",
       " \n",
       " \n",
       "         [[[0.3725, 0.3725, 0.3882,  ..., 0.2510, 0.2510, 0.2510],\n",
       "           [0.4941, 0.4941, 0.5020,  ..., 0.2549, 0.2667, 0.2392],\n",
       "           [0.5137, 0.5059, 0.5059,  ..., 0.2392, 0.2275, 0.2157],\n",
       "           ...,\n",
       "           [0.0000, 0.0000, 0.0000,  ..., 0.0000, 0.0000, 0.0000],\n",
       "           [0.0000, 0.0000, 0.0000,  ..., 0.0000, 0.0000, 0.0000],\n",
       "           [0.0000, 0.0000, 0.0000,  ..., 0.0000, 0.0000, 0.0000]],\n",
       " \n",
       "          [[0.3255, 0.3333, 0.3451,  ..., 0.2314, 0.2196, 0.2157],\n",
       "           [0.4471, 0.4510, 0.4549,  ..., 0.2196, 0.2235, 0.2078],\n",
       "           [0.4667, 0.4627, 0.4667,  ..., 0.2118, 0.2078, 0.1961],\n",
       "           ...,\n",
       "           [0.0000, 0.0000, 0.0000,  ..., 0.0000, 0.0000, 0.0000],\n",
       "           [0.0000, 0.0000, 0.0000,  ..., 0.0000, 0.0000, 0.0000],\n",
       "           [0.0000, 0.0000, 0.0000,  ..., 0.0000, 0.0000, 0.0000]],\n",
       " \n",
       "          [[0.3333, 0.3412, 0.3451,  ..., 0.1961, 0.1882, 0.1804],\n",
       "           [0.4902, 0.4941, 0.4902,  ..., 0.1922, 0.2000, 0.1765],\n",
       "           [0.5137, 0.5176, 0.5216,  ..., 0.1804, 0.1765, 0.1647],\n",
       "           ...,\n",
       "           [0.0000, 0.0000, 0.0000,  ..., 0.0000, 0.0000, 0.0000],\n",
       "           [0.0000, 0.0000, 0.0000,  ..., 0.0000, 0.0000, 0.0000],\n",
       "           [0.0000, 0.0000, 0.0000,  ..., 0.0000, 0.0000, 0.0000]]],\n",
       " \n",
       " \n",
       "         [[[0.0157, 0.2314, 0.3490,  ..., 0.0353, 0.0275, 0.0588],\n",
       "           [0.2275, 0.3725, 0.3333,  ..., 0.0392, 0.0549, 0.0392],\n",
       "           [0.3882, 0.4275, 0.5059,  ..., 0.0431, 0.0510, 0.1059],\n",
       "           ...,\n",
       "           [0.5608, 0.5373, 0.5569,  ..., 0.1725, 0.1647, 0.1255],\n",
       "           [0.5216, 0.5294, 0.5490,  ..., 0.1608, 0.1843, 0.1451],\n",
       "           [0.5608, 0.5137, 0.5333,  ..., 0.1569, 0.1725, 0.1725]],\n",
       " \n",
       "          [[0.0510, 0.2902, 0.4431,  ..., 0.0471, 0.0392, 0.0980],\n",
       "           [0.2941, 0.4471, 0.4235,  ..., 0.0667, 0.0627, 0.0706],\n",
       "           [0.4588, 0.5020, 0.5843,  ..., 0.0863, 0.0745, 0.1490],\n",
       "           ...,\n",
       "           [0.6549, 0.6353, 0.6431,  ..., 0.2784, 0.2706, 0.2353],\n",
       "           [0.6078, 0.6235, 0.6471,  ..., 0.2667, 0.2941, 0.2471],\n",
       "           [0.6510, 0.6118, 0.6431,  ..., 0.2588, 0.2745, 0.2706]],\n",
       " \n",
       "          [[0.0196, 0.0863, 0.0510,  ..., 0.0353, 0.0235, 0.0314],\n",
       "           [0.1961, 0.2314, 0.1216,  ..., 0.0353, 0.0392, 0.0275],\n",
       "           [0.3412, 0.3608, 0.4000,  ..., 0.0314, 0.0275, 0.0706],\n",
       "           ...,\n",
       "           [0.2980, 0.2784, 0.2667,  ..., 0.0745, 0.0902, 0.0588],\n",
       "           [0.2706, 0.2980, 0.2706,  ..., 0.0863, 0.1059, 0.0863],\n",
       "           [0.2863, 0.2431, 0.2471,  ..., 0.0863, 0.0902, 0.0980]]],\n",
       " \n",
       " \n",
       "         [[[0.3412, 0.3216, 0.3608,  ..., 0.3725, 0.4000, 0.4314],\n",
       "           [0.3333, 0.3412, 0.3569,  ..., 0.3686, 0.3843, 0.3922],\n",
       "           [0.3373, 0.3647, 0.3451,  ..., 0.4431, 0.4000, 0.3529],\n",
       "           ...,\n",
       "           [0.4000, 0.4314, 0.4824,  ..., 0.5804, 0.5608, 0.5804],\n",
       "           [0.4078, 0.3961, 0.3451,  ..., 0.5882, 0.6157, 0.5922],\n",
       "           [0.4588, 0.4510, 0.3804,  ..., 0.5804, 0.6039, 0.5922]],\n",
       " \n",
       "          [[0.3294, 0.3176, 0.3608,  ..., 0.3922, 0.4235, 0.4549],\n",
       "           [0.3255, 0.3333, 0.3608,  ..., 0.3882, 0.4039, 0.4118],\n",
       "           [0.3373, 0.3647, 0.3451,  ..., 0.4627, 0.4196, 0.3725],\n",
       "           ...,\n",
       "           [0.3843, 0.4392, 0.4863,  ..., 0.5961, 0.5804, 0.6157],\n",
       "           [0.4157, 0.4000, 0.3529,  ..., 0.5961, 0.6314, 0.6157],\n",
       "           [0.4588, 0.4314, 0.3608,  ..., 0.5882, 0.6118, 0.5922]],\n",
       " \n",
       "          [[0.3176, 0.3098, 0.3608,  ..., 0.4039, 0.4314, 0.4627],\n",
       "           [0.3098, 0.3412, 0.3686,  ..., 0.4039, 0.4157, 0.4196],\n",
       "           [0.3294, 0.3765, 0.3608,  ..., 0.4745, 0.4314, 0.3843],\n",
       "           ...,\n",
       "           [0.3412, 0.4157, 0.4627,  ..., 0.6000, 0.5843, 0.6275],\n",
       "           [0.3843, 0.3725, 0.3216,  ..., 0.5961, 0.6353, 0.6039],\n",
       "           [0.4314, 0.3961, 0.3412,  ..., 0.5765, 0.6000, 0.5725]]]]),\n",
       " tensor([0, 0, 0, 0, 0, 0, 0, 0, 0, 0, 0, 0, 0, 0, 0, 0, 0, 0, 0, 0, 0, 0, 0, 0,\n",
       "         0, 0, 0, 0, 0, 0, 0, 0, 0, 0, 0, 0, 0, 0, 0, 0, 0, 0, 0, 0, 0, 0, 0, 0,\n",
       "         0, 0, 0, 0, 0, 0, 0, 0, 0, 0, 0, 0, 0, 0, 0, 0])]"
      ]
     },
     "execution_count": 8,
     "metadata": {},
     "output_type": "execute_result"
    }
   ],
   "source": [
    "t"
   ]
  },
  {
   "cell_type": "code",
   "execution_count": 9,
   "metadata": {},
   "outputs": [],
   "source": [
    "import matplotlib.pyplot as plt"
   ]
  },
  {
   "cell_type": "code",
   "execution_count": 10,
   "metadata": {},
   "outputs": [
    {
     "ename": "ValueError",
     "evalue": "x and y can be no greater than 2-D, but have shapes (64,) and torch.Size([64, 3, 96, 96])",
     "output_type": "error",
     "traceback": [
      "\u001b[0;31m---------------------------------------------------------------------------\u001b[0m",
      "\u001b[0;31mValueError\u001b[0m                                Traceback (most recent call last)",
      "\u001b[0;32m<ipython-input-10-8fe99e9a77ae>\u001b[0m in \u001b[0;36m<module>\u001b[0;34m\u001b[0m\n\u001b[0;32m----> 1\u001b[0;31m \u001b[0mplt\u001b[0m\u001b[0;34m.\u001b[0m\u001b[0mplot\u001b[0m\u001b[0;34m(\u001b[0m\u001b[0mt\u001b[0m\u001b[0;34m[\u001b[0m\u001b[0;36m0\u001b[0m\u001b[0;34m]\u001b[0m\u001b[0;34m)\u001b[0m\u001b[0;34m\u001b[0m\u001b[0;34m\u001b[0m\u001b[0m\n\u001b[0m",
      "\u001b[0;32m~/.conda/envs/slime_env/lib/python3.6/site-packages/matplotlib/pyplot.py\u001b[0m in \u001b[0;36mplot\u001b[0;34m(scalex, scaley, data, *args, **kwargs)\u001b[0m\n\u001b[1;32m   2787\u001b[0m     return gca().plot(\n\u001b[1;32m   2788\u001b[0m         *args, scalex=scalex, scaley=scaley, **({\"data\": data} if data\n\u001b[0;32m-> 2789\u001b[0;31m         is not None else {}), **kwargs)\n\u001b[0m\u001b[1;32m   2790\u001b[0m \u001b[0;34m\u001b[0m\u001b[0m\n\u001b[1;32m   2791\u001b[0m \u001b[0;34m\u001b[0m\u001b[0m\n",
      "\u001b[0;32m~/.conda/envs/slime_env/lib/python3.6/site-packages/matplotlib/axes/_axes.py\u001b[0m in \u001b[0;36mplot\u001b[0;34m(self, scalex, scaley, data, *args, **kwargs)\u001b[0m\n\u001b[1;32m   1663\u001b[0m         \"\"\"\n\u001b[1;32m   1664\u001b[0m         \u001b[0mkwargs\u001b[0m \u001b[0;34m=\u001b[0m \u001b[0mcbook\u001b[0m\u001b[0;34m.\u001b[0m\u001b[0mnormalize_kwargs\u001b[0m\u001b[0;34m(\u001b[0m\u001b[0mkwargs\u001b[0m\u001b[0;34m,\u001b[0m \u001b[0mmlines\u001b[0m\u001b[0;34m.\u001b[0m\u001b[0mLine2D\u001b[0m\u001b[0;34m.\u001b[0m\u001b[0m_alias_map\u001b[0m\u001b[0;34m)\u001b[0m\u001b[0;34m\u001b[0m\u001b[0;34m\u001b[0m\u001b[0m\n\u001b[0;32m-> 1665\u001b[0;31m         \u001b[0mlines\u001b[0m \u001b[0;34m=\u001b[0m \u001b[0;34m[\u001b[0m\u001b[0;34m*\u001b[0m\u001b[0mself\u001b[0m\u001b[0;34m.\u001b[0m\u001b[0m_get_lines\u001b[0m\u001b[0;34m(\u001b[0m\u001b[0;34m*\u001b[0m\u001b[0margs\u001b[0m\u001b[0;34m,\u001b[0m \u001b[0mdata\u001b[0m\u001b[0;34m=\u001b[0m\u001b[0mdata\u001b[0m\u001b[0;34m,\u001b[0m \u001b[0;34m**\u001b[0m\u001b[0mkwargs\u001b[0m\u001b[0;34m)\u001b[0m\u001b[0;34m]\u001b[0m\u001b[0;34m\u001b[0m\u001b[0;34m\u001b[0m\u001b[0m\n\u001b[0m\u001b[1;32m   1666\u001b[0m         \u001b[0;32mfor\u001b[0m \u001b[0mline\u001b[0m \u001b[0;32min\u001b[0m \u001b[0mlines\u001b[0m\u001b[0;34m:\u001b[0m\u001b[0;34m\u001b[0m\u001b[0;34m\u001b[0m\u001b[0m\n\u001b[1;32m   1667\u001b[0m             \u001b[0mself\u001b[0m\u001b[0;34m.\u001b[0m\u001b[0madd_line\u001b[0m\u001b[0;34m(\u001b[0m\u001b[0mline\u001b[0m\u001b[0;34m)\u001b[0m\u001b[0;34m\u001b[0m\u001b[0;34m\u001b[0m\u001b[0m\n",
      "\u001b[0;32m~/.conda/envs/slime_env/lib/python3.6/site-packages/matplotlib/axes/_base.py\u001b[0m in \u001b[0;36m__call__\u001b[0;34m(self, *args, **kwargs)\u001b[0m\n\u001b[1;32m    223\u001b[0m                 \u001b[0mthis\u001b[0m \u001b[0;34m+=\u001b[0m \u001b[0margs\u001b[0m\u001b[0;34m[\u001b[0m\u001b[0;36m0\u001b[0m\u001b[0;34m]\u001b[0m\u001b[0;34m,\u001b[0m\u001b[0;34m\u001b[0m\u001b[0;34m\u001b[0m\u001b[0m\n\u001b[1;32m    224\u001b[0m                 \u001b[0margs\u001b[0m \u001b[0;34m=\u001b[0m \u001b[0margs\u001b[0m\u001b[0;34m[\u001b[0m\u001b[0;36m1\u001b[0m\u001b[0;34m:\u001b[0m\u001b[0;34m]\u001b[0m\u001b[0;34m\u001b[0m\u001b[0;34m\u001b[0m\u001b[0m\n\u001b[0;32m--> 225\u001b[0;31m             \u001b[0;32myield\u001b[0m \u001b[0;32mfrom\u001b[0m \u001b[0mself\u001b[0m\u001b[0;34m.\u001b[0m\u001b[0m_plot_args\u001b[0m\u001b[0;34m(\u001b[0m\u001b[0mthis\u001b[0m\u001b[0;34m,\u001b[0m \u001b[0mkwargs\u001b[0m\u001b[0;34m)\u001b[0m\u001b[0;34m\u001b[0m\u001b[0;34m\u001b[0m\u001b[0m\n\u001b[0m\u001b[1;32m    226\u001b[0m \u001b[0;34m\u001b[0m\u001b[0m\n\u001b[1;32m    227\u001b[0m     \u001b[0;32mdef\u001b[0m \u001b[0mget_next_color\u001b[0m\u001b[0;34m(\u001b[0m\u001b[0mself\u001b[0m\u001b[0;34m)\u001b[0m\u001b[0;34m:\u001b[0m\u001b[0;34m\u001b[0m\u001b[0;34m\u001b[0m\u001b[0m\n",
      "\u001b[0;32m~/.conda/envs/slime_env/lib/python3.6/site-packages/matplotlib/axes/_base.py\u001b[0m in \u001b[0;36m_plot_args\u001b[0;34m(self, tup, kwargs)\u001b[0m\n\u001b[1;32m    389\u001b[0m             \u001b[0mx\u001b[0m\u001b[0;34m,\u001b[0m \u001b[0my\u001b[0m \u001b[0;34m=\u001b[0m \u001b[0mindex_of\u001b[0m\u001b[0;34m(\u001b[0m\u001b[0mtup\u001b[0m\u001b[0;34m[\u001b[0m\u001b[0;34m-\u001b[0m\u001b[0;36m1\u001b[0m\u001b[0;34m]\u001b[0m\u001b[0;34m)\u001b[0m\u001b[0;34m\u001b[0m\u001b[0;34m\u001b[0m\u001b[0m\n\u001b[1;32m    390\u001b[0m \u001b[0;34m\u001b[0m\u001b[0m\n\u001b[0;32m--> 391\u001b[0;31m         \u001b[0mx\u001b[0m\u001b[0;34m,\u001b[0m \u001b[0my\u001b[0m \u001b[0;34m=\u001b[0m \u001b[0mself\u001b[0m\u001b[0;34m.\u001b[0m\u001b[0m_xy_from_xy\u001b[0m\u001b[0;34m(\u001b[0m\u001b[0mx\u001b[0m\u001b[0;34m,\u001b[0m \u001b[0my\u001b[0m\u001b[0;34m)\u001b[0m\u001b[0;34m\u001b[0m\u001b[0;34m\u001b[0m\u001b[0m\n\u001b[0m\u001b[1;32m    392\u001b[0m \u001b[0;34m\u001b[0m\u001b[0m\n\u001b[1;32m    393\u001b[0m         \u001b[0;32mif\u001b[0m \u001b[0mself\u001b[0m\u001b[0;34m.\u001b[0m\u001b[0mcommand\u001b[0m \u001b[0;34m==\u001b[0m \u001b[0;34m'plot'\u001b[0m\u001b[0;34m:\u001b[0m\u001b[0;34m\u001b[0m\u001b[0;34m\u001b[0m\u001b[0m\n",
      "\u001b[0;32m~/.conda/envs/slime_env/lib/python3.6/site-packages/matplotlib/axes/_base.py\u001b[0m in \u001b[0;36m_xy_from_xy\u001b[0;34m(self, x, y)\u001b[0m\n\u001b[1;32m    271\u001b[0m         \u001b[0;32mif\u001b[0m \u001b[0mx\u001b[0m\u001b[0;34m.\u001b[0m\u001b[0mndim\u001b[0m \u001b[0;34m>\u001b[0m \u001b[0;36m2\u001b[0m \u001b[0;32mor\u001b[0m \u001b[0my\u001b[0m\u001b[0;34m.\u001b[0m\u001b[0mndim\u001b[0m \u001b[0;34m>\u001b[0m \u001b[0;36m2\u001b[0m\u001b[0;34m:\u001b[0m\u001b[0;34m\u001b[0m\u001b[0;34m\u001b[0m\u001b[0m\n\u001b[1;32m    272\u001b[0m             raise ValueError(\"x and y can be no greater than 2-D, but have \"\n\u001b[0;32m--> 273\u001b[0;31m                              \"shapes {} and {}\".format(x.shape, y.shape))\n\u001b[0m\u001b[1;32m    274\u001b[0m \u001b[0;34m\u001b[0m\u001b[0m\n\u001b[1;32m    275\u001b[0m         \u001b[0;32mif\u001b[0m \u001b[0mx\u001b[0m\u001b[0;34m.\u001b[0m\u001b[0mndim\u001b[0m \u001b[0;34m==\u001b[0m \u001b[0;36m1\u001b[0m\u001b[0;34m:\u001b[0m\u001b[0;34m\u001b[0m\u001b[0;34m\u001b[0m\u001b[0m\n",
      "\u001b[0;31mValueError\u001b[0m: x and y can be no greater than 2-D, but have shapes (64,) and torch.Size([64, 3, 96, 96])"
     ]
    },
    {
     "data": {
      "image/png": "[encoded data removed]",
      "text/plain": [
       "<Figure size 432x288 with 1 Axes>"
      ]
     },
     "metadata": {
      "needs_background": "light"
     },
     "output_type": "display_data"
    }
   ],
   "source": [
    "plt.plot(t[0])"
   ]
  },
  {
   "cell_type": "code",
   "execution_count": null,
   "metadata": {},
   "outputs": [],
   "source": []
  }
 ],
 "metadata": {
  "kernelspec": {
   "display_name": "Python [conda env:.conda-slime_env] *",
   "language": "python",
   "name": "conda-env-.conda-slime_env-py"
  },
  "language_info": {
   "codemirror_mode": {
    "name": "ipython",
    "version": 3
   },
   "file_extension": ".py",
   "mimetype": "text/x-python",
   "name": "python",
   "nbconvert_exporter": "python",
   "pygments_lexer": "ipython3",
   "version": "3.6.9"
  }
 },
 "nbformat": 4,
 "nbformat_minor": 2
}
