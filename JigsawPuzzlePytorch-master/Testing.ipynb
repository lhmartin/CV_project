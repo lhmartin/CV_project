{
 "cells": [
  {
   "cell_type": "code",
   "execution_count": 4,
   "metadata": {
    "scrolled": true
   },
   "outputs": [],
   "source": [
    "import numpy as np\n",
    "import torch\n",
    "import torch.utils.data as data\n",
    "import torchvision.transforms as transforms\n",
    "from PIL import Image\n",
    "import matplotlib.pyplot as plt\n",
    "import torchvision.transforms.functional as TF\n",
    "\n",
    "img_max_xy = 96\n",
    "\n",
    "class DataLoader(data.Dataset):\n",
    "    def __init__(self, data_path, txt_list, classes=1000, rot = 0):\n",
    "        self.data_path = data_path\n",
    "        self.rot = rot\n",
    "        self.names, _ = self.__dataset_info(txt_list)\n",
    "        self.N = len(self.names)\n",
    "        self.permutations = self.__retrive_permutations(classes)\n",
    "\n",
    "        self.__image_transformer = transforms.Compose([\n",
    "            transforms.Resize(img_max_xy, Image.BILINEAR),\n",
    "            transforms.CenterCrop(img_max_xy - 1)])\n",
    "        self.__augment_tile = transforms.Compose([\n",
    "            transforms.RandomCrop(25),\n",
    "            transforms.Resize((30, 30), Image.BILINEAR),\n",
    "            transforms.Lambda(rgb_jittering),\n",
    "            transforms.ToTensor(),\n",
    "            # transforms.Normalize(mean=[0.485, 0.456, 0.406],\n",
    "            # std =[0.229, 0.224, 0.225])\n",
    "        ])\n",
    "        \n",
    "        self.indices = set([0])\n",
    "        self.num_angles = 4\n",
    "        self.num_rotations_per_img = 1\n",
    "        # the last angle is 360 and 1st angle is 0, both give the original image.\n",
    "        # 360 is not useful so remove it\n",
    "        self.angles = torch.linspace(0, 360, 4 + 1)[:-1]\n",
    "\n",
    "    def __getitem__(self, index):\n",
    "        framename = self.data_path + '/' + self.names[index]\n",
    "       \n",
    "        order = np.random.randint(len(self.permutations))\n",
    "        \n",
    "        img = Image.open(framename).convert('RGB')\n",
    "        if np.random.rand() < 0.30:\n",
    "            img = img.convert('LA').convert('RGB')\n",
    "\n",
    "        if img.size[0] != img_max_xy:\n",
    "            img = self.__image_transformer(img)\n",
    "\n",
    "        s = float(img.size[0]) / 3\n",
    "        a = s / 2\n",
    "        tiles = [None] * 9  \n",
    "        orig_tiles = [None] * 9  \n",
    "        \n",
    "        data, labels = [], []\n",
    "        indices = self.indices if self.indices else set(range(len(sample[\"data\"])))\n",
    "        orig_img = img\n",
    "        \n",
    "        if(self.rot == 1):\n",
    "            #print(self.permutations[order])\n",
    "            #print(\"ROTATO POTATO\")\n",
    "            #print(\"Rotation num = \", self.permutations[order][9])\n",
    "            #print(\"ANGLE = \", self.angles[int(self.permutations[order][9])])\n",
    "            img = TF.rotate(img, self.angles[int(self.permutations[order][9])])\n",
    "        \n",
    "            \n",
    "        for n in range(9):\n",
    "            i = n / 3\n",
    "            j = n % 3\n",
    "            c = [a * i * 2 + a, a * j * 2 + a]\n",
    "            c = np.array([c[1] - a, c[0] - a, c[1] + a + 1, c[0] + a + 1]).astype(int)\n",
    "           \n",
    "            tile = img.crop(c.tolist())\n",
    "            orig_tile = orig_img.crop(c.tolist())\n",
    "            \n",
    "            tile = self.__augment_tile(tile)\n",
    "            orig_tile = self.__augment_tile(orig_tile)\n",
    "                \n",
    "            # Normalize the patches indipendently to avoid low level features shortcut\n",
    "            m, s = tile.view(3, -1).mean(dim=1).numpy(), tile.view(3, -1).std(dim=1).numpy()\n",
    "            s[s == 0] = 1\n",
    "            norm = transforms.Normalize(mean=m.tolist(), std=s.tolist())\n",
    "            tile = norm(tile)\n",
    "            tiles[n] = tile\n",
    "            orig_tiles[n] = norm(orig_tile)\n",
    "        \n",
    "        #print(tiles)\n",
    "\n",
    "        # NEED TO SAMPLE THIS BEFORE ROTATION TO DETERMINE THE ROTATION\n",
    "        # MAYBE KEEP THE PERMUTATIONS IN TWO \n",
    "        # ie: self.per[order][\"ROT\"] has the angle\n",
    "        # self.per[order][\"PUZ\"] has the puzzle pieces\n",
    "        # Which means using the same code is possible \n",
    "        \n",
    "        data = [tiles[int(self.permutations[order][t])] for t in range(9)]\n",
    "        data = torch.stack(data, 0)\n",
    "       \n",
    "\n",
    "        return data, int(order), orig_tiles\n",
    "\n",
    "    def __len__(self):\n",
    "        return len(self.names)\n",
    "\n",
    "    def __dataset_info(self, txt_labels):\n",
    "        with open(txt_labels, 'r') as f:\n",
    "            images_list = f.readlines()\n",
    "\n",
    "        file_names = []\n",
    "        labels = []\n",
    "        \n",
    "        for row in images_list:\n",
    "            row = row.split('\\n')\n",
    "            file_names.append(row[0])\n",
    "            labels.append(0)\n",
    "\n",
    "        return file_names, labels\n",
    "    \n",
    "    def __retrive_permutations(self, classes):\n",
    "        if(self.rot == 1):\n",
    "            all_perm = np.load('permutations/permutations_rot_hamming_max_%d.npy' %(classes))\n",
    "        else:\n",
    "            all_perm = np.load('permutations/permutations_hamming_max_%d.npy' % (classes))\n",
    "            \n",
    "        # from range [1,9] to [0,8]\n",
    "        if all_perm.min() == 1:\n",
    "            all_perm = all_perm - 1\n",
    "\n",
    "        return all_perm"
   ]
  },
  {
   "cell_type": "code",
   "execution_count": 5,
   "metadata": {},
   "outputs": [],
   "source": [
    "def rgb_jittering(im):\n",
    "    im = np.array(im, 'int32')\n",
    "    for ch in range(3):\n",
    "        im[:, :, ch] += np.random.randint(-2, 2)\n",
    "    im[im > img_max_xy-1] = img_max_xy-1\n",
    "    im[im < 0] = 0\n",
    "    return im.astype('uint8')"
   ]
  },
  {
   "cell_type": "code",
   "execution_count": 6,
   "metadata": {},
   "outputs": [],
   "source": [
    "ad = \"../sslime/extra_scripts/data\"\n",
    "\n",
    "trainpath = ad +'/train'\n",
    "train_data = DataLoader(trainpath, ad +'/train.txt',\n",
    "                            classes=40, rot = 1)"
   ]
  },
  {
   "cell_type": "code",
   "execution_count": 7,
   "metadata": {},
   "outputs": [],
   "source": [
    "train_loader = torch.utils.data.DataLoader(dataset=train_data,\n",
    "                                            batch_size=1,\n",
    "                                            shuffle=False,\n",
    "                                            num_workers=1)"
   ]
  },
  {
   "cell_type": "code",
   "execution_count": 8,
   "metadata": {},
   "outputs": [
    {
     "name": "stdout",
     "output_type": "stream",
     "text": [
      "tensor([23])\n"
     ]
    }
   ],
   "source": [
    " for i, (images, labels, original) in enumerate(train_loader):\n",
    "        if (i == 100):\n",
    "            print(labels)\n",
    "            break"
   ]
  },
  {
   "cell_type": "code",
   "execution_count": 9,
   "metadata": {},
   "outputs": [
    {
     "name": "stderr",
     "output_type": "stream",
     "text": [
      "Clipping input data to the valid range for imshow with RGB data ([0..1] for floats or [0..255] for integers).\n",
      "Clipping input data to the valid range for imshow with RGB data ([0..1] for floats or [0..255] for integers).\n",
      "Clipping input data to the valid range for imshow with RGB data ([0..1] for floats or [0..255] for integers).\n",
      "Clipping input data to the valid range for imshow with RGB data ([0..1] for floats or [0..255] for integers).\n",
      "Clipping input data to the valid range for imshow with RGB data ([0..1] for floats or [0..255] for integers).\n",
      "Clipping input data to the valid range for imshow with RGB data ([0..1] for floats or [0..255] for integers).\n",
      "Clipping input data to the valid range for imshow with RGB data ([0..1] for floats or [0..255] for integers).\n",
      "Clipping input data to the valid range for imshow with RGB data ([0..1] for floats or [0..255] for integers).\n",
      "Clipping input data to the valid range for imshow with RGB data ([0..1] for floats or [0..255] for integers).\n"
     ]
    },
    {
     "data": {
      "image/png": "[encoded data removed]",
      "text/plain": [
       "<Figure size 432x288 with 9 Axes>"
      ]
     },
     "metadata": {
      "needs_background": "light"
     },
     "output_type": "display_data"
    }
   ],
   "source": [
    "for i in range(1,10):\n",
    "    plt.subplot(3, 3, i)\n",
    "    img = images[0][i - 1][:]\n",
    "    img = np.transpose(np.array(img), (1,2,0))\n",
    "    plt.imshow(img)"
   ]
  },
  {
   "cell_type": "code",
   "execution_count": 10,
   "metadata": {},
   "outputs": [
    {
     "name": "stderr",
     "output_type": "stream",
     "text": [
      "Clipping input data to the valid range for imshow with RGB data ([0..1] for floats or [0..255] for integers).\n",
      "Clipping input data to the valid range for imshow with RGB data ([0..1] for floats or [0..255] for integers).\n",
      "Clipping input data to the valid range for imshow with RGB data ([0..1] for floats or [0..255] for integers).\n",
      "Clipping input data to the valid range for imshow with RGB data ([0..1] for floats or [0..255] for integers).\n",
      "Clipping input data to the valid range for imshow with RGB data ([0..1] for floats or [0..255] for integers).\n",
      "Clipping input data to the valid range for imshow with RGB data ([0..1] for floats or [0..255] for integers).\n",
      "Clipping input data to the valid range for imshow with RGB data ([0..1] for floats or [0..255] for integers).\n"
     ]
    },
    {
     "data": {
      "image/png": "[encoded data removed]",
      "text/plain": [
       "<Figure size 432x288 with 9 Axes>"
      ]
     },
     "metadata": {
      "needs_background": "light"
     },
     "output_type": "display_data"
    }
   ],
   "source": [
    "for i in range(1,10):\n",
    "    plt.subplot(3, 3, i)\n",
    "    img = original[i-1][0][:]\n",
    "    \n",
    "    img = np.transpose(np.array(img), (1,2,0))\n",
    "    plt.imshow(img)"
   ]
  },
  {
   "cell_type": "code",
   "execution_count": null,
   "metadata": {},
   "outputs": [],
   "source": []
  },
  {
   "cell_type": "code",
   "execution_count": null,
   "metadata": {},
   "outputs": [],
   "source": []
  }
 ],
 "metadata": {
  "kernelspec": {
   "display_name": "Python [conda env:.conda-slime_env] *",
   "language": "python",
   "name": "conda-env-.conda-slime_env-py"
  },
  "language_info": {
   "codemirror_mode": {
    "name": "ipython",
    "version": 3
   },
   "file_extension": ".py",
   "mimetype": "text/x-python",
   "name": "python",
   "nbconvert_exporter": "python",
   "pygments_lexer": "ipython3",
   "version": "3.6.9"
  }
 },
 "nbformat": 4,
 "nbformat_minor": 2
}
